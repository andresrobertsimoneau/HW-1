{
 "cells": [
  {
   "cell_type": "markdown",
   "id": "668e1274",
   "metadata": {},
   "source": [
    "# Markdown 1 \n",
    "\n",
    "*Here we can observe that the DataSet provided indeed has missing values. The code has read each individual column and the column 'id' is missing 1 value and the column 'song' is missing 11 values*"
   ]
  },
  {
   "cell_type": "code",
   "execution_count": 19,
   "id": "c3fa368d",
   "metadata": {
    "scrolled": false
   },
   "outputs": [
    {
     "data": {
      "text/plain": [
       "row_n           0\n",
       "id              1\n",
       "name            0\n",
       "gender          0\n",
       "species         0\n",
       "birthday        0\n",
       "personality     0\n",
       "song           11\n",
       "phrase          0\n",
       "full_id         0\n",
       "url             0\n",
       "dtype: int64"
      ]
     },
     "execution_count": 19,
     "metadata": {},
     "output_type": "execute_result"
    }
   ],
   "source": [
    "import pandas as pd\n",
    "url = \"https://raw.githubusercontent.com/rfordatascience/tidytuesday/master/data/2020/2020-05-05/villagers.csv\"\n",
    "df = pd.read_csv(url)\n",
    "df.isna().sum()"
   ]
  },
  {
   "cell_type": "markdown",
   "id": "519b9c63",
   "metadata": {},
   "source": [
    "# Markdown 2 \n",
    "*With the help of CoPilot, we can define the words \"observations\" and \"variables\" within the context of the dataset. \n",
    "\n",
    "*The term \"observations\" are defined to refer to the individual rows of the dataset. In the context of this data set for example, the rows grant information/observations about each individual villager. \n",
    "\n",
    "*The term \"variables\" are defined to refer to the columns of the dataset. For example, the columns in the data set grant information about variables regarding all the villagers (personality, birthday, species, etc).\n",
    "\n",
    "\n",
    "*The code below (with the help of CoPilot) has printed the number of rows and columns of the dataset. "
   ]
  },
  {
   "cell_type": "code",
   "execution_count": 20,
   "id": "63b58da9",
   "metadata": {},
   "outputs": [
    {
     "name": "stdout",
     "output_type": "stream",
     "text": [
      "Columns: ['row_n', 'id', 'name', 'gender', 'species', 'birthday', 'personality', 'song', 'phrase', 'full_id', 'url']\n",
      "Number of rows: 391\n"
     ]
    }
   ],
   "source": [
    "import pandas as pd\n",
    "\n",
    "import pandas as pd\n",
    "url = \"https://raw.githubusercontent.com/rfordatascience/tidytuesday/master/data/2020/2020-05-05/villagers.csv\"\n",
    "data = pd.read_csv(url)\n",
    "\n",
    "# Display the column names and the number of rows in the dataset\n",
    "columns = data.columns.tolist()\n",
    "num_rows = len(data)\n",
    "\n",
    "print(\"Columns:\", columns)\n",
    "print(\"Number of rows:\", num_rows)"
   ]
  },
  {
   "cell_type": "markdown",
   "id": "5c70245a",
   "metadata": {},
   "source": [
    "# Markdown 3"
   ]
  },
  {
   "cell_type": "code",
   "execution_count": 21,
   "id": "008a7101",
   "metadata": {},
   "outputs": [
    {
     "name": "stdout",
     "output_type": "stream",
     "text": [
      "name\n",
      "Admiral    1\n",
      "Muffy      1\n",
      "Paula      1\n",
      "Patty      1\n",
      "Pate       1\n",
      "          ..\n",
      "Elvis      1\n",
      "Eloise     1\n",
      "Elmer      1\n",
      "Ellie      1\n",
      "Zucker     1\n",
      "Name: count, Length: 391, dtype: int64\n"
     ]
    }
   ],
   "source": [
    "import pandas as pd\n",
    "url = \"https://raw.githubusercontent.com/rfordatascience/tidytuesday/master/data/2020/2020-05-05/villagers.csv\"\n",
    "data = pd.read_csv(url)\n",
    "\n",
    "species_counts = data['name'].value_counts()\n",
    "print(species_counts)"
   ]
  },
  {
   "cell_type": "code",
   "execution_count": 22,
   "id": "543f4ff9",
   "metadata": {},
   "outputs": [
    {
     "name": "stdout",
     "output_type": "stream",
     "text": [
      "species\n",
      "cat          23\n",
      "rabbit       20\n",
      "frog         18\n",
      "squirrel     18\n",
      "duck         17\n",
      "dog          16\n",
      "cub          16\n",
      "pig          15\n",
      "bear         15\n",
      "mouse        15\n",
      "horse        15\n",
      "bird         13\n",
      "penguin      13\n",
      "sheep        13\n",
      "elephant     11\n",
      "wolf         11\n",
      "ostrich      10\n",
      "deer         10\n",
      "eagle         9\n",
      "gorilla       9\n",
      "chicken       9\n",
      "koala         9\n",
      "goat          8\n",
      "hamster       8\n",
      "kangaroo      8\n",
      "monkey        8\n",
      "anteater      7\n",
      "hippo         7\n",
      "tiger         7\n",
      "alligator     7\n",
      "lion          7\n",
      "bull          6\n",
      "rhino         6\n",
      "cow           4\n",
      "octopus       3\n",
      "Name: count, dtype: int64\n"
     ]
    }
   ],
   "source": [
    "import pandas as pd\n",
    "url = \"https://raw.githubusercontent.com/rfordatascience/tidytuesday/master/data/2020/2020-05-05/villagers.csv\"\n",
    "data = pd.read_csv(url)\n",
    "\n",
    "species_counts = data['species'].value_counts()\n",
    "print(species_counts)"
   ]
  },
  {
   "cell_type": "code",
   "execution_count": 23,
   "id": "75ccac70",
   "metadata": {},
   "outputs": [
    {
     "name": "stdout",
     "output_type": "stream",
     "text": [
      "gender\n",
      "male      204\n",
      "female    187\n",
      "Name: count, dtype: int64\n"
     ]
    }
   ],
   "source": [
    "import pandas as pd\n",
    "url = \"https://raw.githubusercontent.com/rfordatascience/tidytuesday/master/data/2020/2020-05-05/villagers.csv\"\n",
    "data = pd.read_csv(url)\n",
    "\n",
    "species_counts = data['gender'].value_counts()\n",
    "print(species_counts)"
   ]
  },
  {
   "cell_type": "code",
   "execution_count": 24,
   "id": "4051dc94",
   "metadata": {},
   "outputs": [
    {
     "name": "stdout",
     "output_type": "stream",
     "text": [
      "birthday\n",
      "1-27     2\n",
      "12-5     2\n",
      "7-31     2\n",
      "3-26     2\n",
      "8-3      2\n",
      "        ..\n",
      "4-3      1\n",
      "10-26    1\n",
      "7-23     1\n",
      "12-8     1\n",
      "3-8      1\n",
      "Name: count, Length: 361, dtype: int64\n"
     ]
    }
   ],
   "source": [
    "import pandas as pd\n",
    "url = \"https://raw.githubusercontent.com/rfordatascience/tidytuesday/master/data/2020/2020-05-05/villagers.csv\"\n",
    "data = pd.read_csv(url)\n",
    "\n",
    "species_counts = data['birthday'].value_counts()\n",
    "print(species_counts)"
   ]
  },
  {
   "cell_type": "code",
   "execution_count": 14,
   "id": "740b9ac4",
   "metadata": {},
   "outputs": [
    {
     "name": "stdout",
     "output_type": "stream",
     "text": [
      "id\n",
      "admiral    1\n",
      "mott       1\n",
      "paula      1\n",
      "patty      1\n",
      "pate       1\n",
      "          ..\n",
      "eloise     1\n",
      "elmer      1\n",
      "ellie      1\n",
      "elise      1\n",
      "zucker     1\n",
      "Name: count, Length: 390, dtype: int64\n"
     ]
    }
   ],
   "source": [
    "import pandas as pd\n",
    "url = \"https://raw.githubusercontent.com/rfordatascience/tidytuesday/master/data/2020/2020-05-05/villagers.csv\"\n",
    "data = pd.read_csv(url)\n",
    "\n",
    "species_counts = data['id'].value_counts()\n",
    "print(species_counts)"
   ]
  },
  {
   "cell_type": "code",
   "execution_count": 15,
   "id": "d6d05cc0",
   "metadata": {},
   "outputs": [
    {
     "name": "stdout",
     "output_type": "stream",
     "text": [
      "personality\n",
      "lazy      60\n",
      "normal    59\n",
      "cranky    55\n",
      "snooty    55\n",
      "jock      55\n",
      "peppy     49\n",
      "smug      34\n",
      "uchi      24\n",
      "Name: count, dtype: int64\n"
     ]
    }
   ],
   "source": [
    "import pandas as pd\n",
    "url = \"https://raw.githubusercontent.com/rfordatascience/tidytuesday/master/data/2020/2020-05-05/villagers.csv\"\n",
    "data = pd.read_csv(url)\n",
    "\n",
    "species_counts = data['personality'].value_counts()\n",
    "print(species_counts)"
   ]
  },
  {
   "cell_type": "code",
   "execution_count": 16,
   "id": "20b3e2ee",
   "metadata": {},
   "outputs": [
    {
     "name": "stdout",
     "output_type": "stream",
     "text": [
      "song\n",
      "K.K. Country     10\n",
      "Forest Life       9\n",
      "Imperial K.K.     7\n",
      "K.K. Soul         7\n",
      "K.K. Ragtime      7\n",
      "                 ..\n",
      "Aloha K.K.        2\n",
      "Drivin'           1\n",
      "Senor K.K.        1\n",
      "K.K.  Bazaar      1\n",
      "K.K. D&B          1\n",
      "Name: count, Length: 92, dtype: int64\n"
     ]
    }
   ],
   "source": [
    "import pandas as pd\n",
    "url = \"https://raw.githubusercontent.com/rfordatascience/tidytuesday/master/data/2020/2020-05-05/villagers.csv\"\n",
    "data = pd.read_csv(url)\n",
    "\n",
    "species_counts = data['song'].value_counts()\n",
    "print(species_counts)"
   ]
  },
  {
   "cell_type": "code",
   "execution_count": 31,
   "id": "e1fcc437",
   "metadata": {},
   "outputs": [
    {
     "name": "stdout",
     "output_type": "stream",
     "text": [
      "phrase\n",
      "wee one       2\n",
      "quacko        2\n",
      "bloop         2\n",
      "aye aye       1\n",
      "snoot         1\n",
      "             ..\n",
      "lambchop      1\n",
      "yeah buddy    1\n",
      "chow down     1\n",
      "unh-hunh      1\n",
      "pronk         1\n",
      "Name: count, Length: 388, dtype: int64\n"
     ]
    }
   ],
   "source": [
    "import pandas as pd\n",
    "url = \"https://raw.githubusercontent.com/rfordatascience/tidytuesday/master/data/2020/2020-05-05/villagers.csv\"\n",
    "data = pd.read_csv(url)\n",
    "\n",
    "species_counts = data['phrase'].value_counts()\n",
    "print(species_counts)"
   ]
  },
  {
   "cell_type": "code",
   "execution_count": 32,
   "id": "84ca88f2",
   "metadata": {},
   "outputs": [
    {
     "name": "stdout",
     "output_type": "stream",
     "text": [
      "full_id\n",
      "villager-admiral    1\n",
      "villager-muffy      1\n",
      "villager-paula      1\n",
      "villager-patty      1\n",
      "villager-pate       1\n",
      "                   ..\n",
      "villager-elvis      1\n",
      "villager-eloise     1\n",
      "villager-elmer      1\n",
      "villager-ellie      1\n",
      "villager-zucker     1\n",
      "Name: count, Length: 391, dtype: int64\n"
     ]
    }
   ],
   "source": [
    "import pandas as pd\n",
    "url = \"https://raw.githubusercontent.com/rfordatascience/tidytuesday/master/data/2020/2020-05-05/villagers.csv\"\n",
    "data = pd.read_csv(url)\n",
    "\n",
    "species_counts = data['full_id'].value_counts()\n",
    "print(species_counts)"
   ]
  },
  {
   "cell_type": "markdown",
   "id": "cec89567",
   "metadata": {},
   "source": [
    "# Markdown 4"
   ]
  },
  {
   "cell_type": "code",
   "execution_count": 27,
   "id": "f6d16129",
   "metadata": {},
   "outputs": [
    {
     "name": "stdout",
     "output_type": "stream",
     "text": [
      "Number of rows: 891, Number of columns: 15\n"
     ]
    }
   ],
   "source": [
    "import pandas as pd \n",
    "url = \"https://raw.githubusercontent.com/mwaskom/seaborn-data/master/titanic.csv\"\n",
    "df = pd.read_csv(url)\n",
    "\n",
    "\n",
    "rows, columns = df.shape\n",
    "print(f\"Number of rows: {rows}, Number of columns: {columns}\")"
   ]
  },
  {
   "cell_type": "code",
   "execution_count": 28,
   "id": "eb9dac58",
   "metadata": {},
   "outputs": [
    {
     "name": "stdout",
     "output_type": "stream",
     "text": [
      "          survived      pclass   sex         age       sibsp       parch  \\\n",
      "count   891.000000  891.000000   891  714.000000  891.000000  891.000000   \n",
      "unique         NaN         NaN     2         NaN         NaN         NaN   \n",
      "top            NaN         NaN  male         NaN         NaN         NaN   \n",
      "freq           NaN         NaN   577         NaN         NaN         NaN   \n",
      "mean      0.383838    2.308642   NaN   29.699118    0.523008    0.381594   \n",
      "std       0.486592    0.836071   NaN   14.526497    1.102743    0.806057   \n",
      "min       0.000000    1.000000   NaN    0.420000    0.000000    0.000000   \n",
      "25%       0.000000    2.000000   NaN   20.125000    0.000000    0.000000   \n",
      "50%       0.000000    3.000000   NaN   28.000000    0.000000    0.000000   \n",
      "75%       1.000000    3.000000   NaN   38.000000    1.000000    0.000000   \n",
      "max       1.000000    3.000000   NaN   80.000000    8.000000    6.000000   \n",
      "\n",
      "              fare embarked  class  who adult_male deck  embark_town alive  \\\n",
      "count   891.000000      889    891  891        891  203          889   891   \n",
      "unique         NaN        3      3    3          2    7            3     2   \n",
      "top            NaN        S  Third  man       True    C  Southampton    no   \n",
      "freq           NaN      644    491  537        537   59          644   549   \n",
      "mean     32.204208      NaN    NaN  NaN        NaN  NaN          NaN   NaN   \n",
      "std      49.693429      NaN    NaN  NaN        NaN  NaN          NaN   NaN   \n",
      "min       0.000000      NaN    NaN  NaN        NaN  NaN          NaN   NaN   \n",
      "25%       7.910400      NaN    NaN  NaN        NaN  NaN          NaN   NaN   \n",
      "50%      14.454200      NaN    NaN  NaN        NaN  NaN          NaN   NaN   \n",
      "75%      31.000000      NaN    NaN  NaN        NaN  NaN          NaN   NaN   \n",
      "max     512.329200      NaN    NaN  NaN        NaN  NaN          NaN   NaN   \n",
      "\n",
      "       alone  \n",
      "count    891  \n",
      "unique     2  \n",
      "top     True  \n",
      "freq     537  \n",
      "mean     NaN  \n",
      "std      NaN  \n",
      "min      NaN  \n",
      "25%      NaN  \n",
      "50%      NaN  \n",
      "75%      NaN  \n",
      "max      NaN  \n"
     ]
    }
   ],
   "source": [
    "import pandas as pd \n",
    "url = \"https://raw.githubusercontent.com/mwaskom/seaborn-data/master/titanic.csv\"\n",
    "df = pd.read_csv(url)\n",
    "\n",
    "\n",
    "all_summary = df.describe(include='all')\n",
    "print(all_summary)"
   ]
  },
  {
   "cell_type": "markdown",
   "id": "3d680b95",
   "metadata": {},
   "source": [
    "*Here, we can analyze that df.shape and df.describe() give a different analysis of the dataset presented in regards to the number of columns and the value count reported under these columns.\n",
    "\n",
    "*df.shape simply analyzes the data and reports that there are 15 columns and 891 rows. In theory, this should imply that each of the 15 columns in the data set has 891 recorded values.\n",
    "\n",
    "*However we do not see this in df.describe() regarding the count for each column. The age, embarked, deck, and embark_town columns all have count values below 891. This confirms that these specific columns have missing values.  "
   ]
  },
  {
   "cell_type": "markdown",
   "id": "151772c1",
   "metadata": {},
   "source": [
    "# Markdown 5"
   ]
  },
  {
   "cell_type": "markdown",
   "id": "cc839195",
   "metadata": {},
   "source": [
    "*The difference between an attribute and a method are significant in the sense that both perform vastly different tasks with regards to a dataset. \n",
    "\n",
    "*An \"attribute\" such as df.shape simply states how many columns and rows there are in a dataset. However, it does not do any calculations and no further information is given in regards to the dataset. It simply tells us how the dataset is structured.\n",
    "\n",
    "*A \"method\" such as df.describe() performs specific calculations on a dataset and gives more direct statistical information compared to an attribute. The calculation operations one can perform vary (see Markdown 6), thus the () is included to specify which calculation one wants to compute. "
   ]
  },
  {
   "cell_type": "markdown",
   "id": "c670f2bb",
   "metadata": {},
   "source": [
    "# Markdown 6\n",
    "\n",
    "*Count refers to the # of valid non-missing values in the dataset\n",
    "\n",
    "*Mean refers to the average of the values in the dataset\n",
    "\n",
    "*std (standard deviation) refers to the dispersion/spread of the data. A high std means the values in the dataset are spread out, while a low std means the values in the dataset are closer to the average\n",
    "\n",
    "*min (minimum) refers to the smallest value in the dataset \n",
    "\n",
    "*max (maximum) refers to the largest value in the dataset\n",
    "\n",
    "*25% (1st quartile) refers to the number where 1/4 of the smallest values in the data fall below this point\n",
    "\n",
    "*50% (2nd quartile) refers to the number holding the middle point of the data. The data values are split 50/50 below/above this point.\n",
    "\n",
    "*75% (3rd quartile) refers to the number where 3/4 of the values fall below this point. The largest 25% of values in the dataset are above this point."
   ]
  },
  {
   "cell_type": "markdown",
   "id": "47ab7868",
   "metadata": {},
   "source": [
    "# CoPilot Summary (Questions 1-6)\n",
    "\n",
    "*A quoted summary from CoPilot regarding our session together with this assignment\n",
    "\n",
    "\"Sure! Here’s a summary of our interactions:\n",
    "\n",
    "Dataset Overview:\n",
    "You downloaded a dataset about characters from Animal Crossing and wanted to know the columns and the amount of data.\n",
    "We attempted to load the dataset from the provided URL but encountered an issue. I provided a Python code snippet to load the dataset locally and display the column names and number of rows.\n",
    "\n",
    "Understanding Observations and Variables:\n",
    "We discussed the meanings of “observations” (rows) and “variables” (columns) in the context of pandas DataFrames.\n",
    "I provided a hypothetical table to visualize these concepts.\n",
    "\n",
    "Using df.describe() and df['column'].value_counts():\n",
    "We explored how to use df.describe() for numeric summaries and df['column'].value_counts() for categorical data.\n",
    "I explained that df.describe() does not require any arguments and provided a code example.\n",
    "\n",
    "Handling Large Datasets:\n",
    "We discussed analyzing each column individually for large datasets.\n",
    "I provided a Python function to summarize each column, either using describe() for numeric columns or value_counts() for categorical columns.\n",
    "\n",
    "Discrepancies Between df.shape and df.describe():\n",
    "We explored the differences between the dataset size given by df.shape and what is reported by df.describe(), especially with non-numeric variables and missing values.\n",
    "I explained how df.describe() only includes numeric columns by default and how the “count” in df.describe() reflects non-missing values.\n",
    "\n",
    "Attributes vs. Methods:\n",
    "We discussed the difference between an “attribute” (e.g., df.shape) and a “method” (e.g., df.describe()).\n",
    "I provided definitions and examples to clarify the difference.\n",
    "\n",
    "Types of Calculations with Methods:\n",
    "We reviewed various calculations and operations that can be performed with pandas methods, including descriptive statistics, aggregation, data manipulation, filtering, group by operations, handling missing data, and merging/joining DataFrames.\n",
    "\n",
    "If you need any more details or further clarification on any of these points, feel free to ask!\""
   ]
  },
  {
   "cell_type": "markdown",
   "id": "6e6cc86a",
   "metadata": {},
   "source": [
    "# Markdown 7 \n",
    "\n",
    "*1. A use case in which we would use 'df.dropna()' over 'del df['col']' would be in a scenario where a state keeps information on voter registration.\n",
    "\n",
    "*Let's say that out of 100 voters in a county, one of the voters is missing their (numerical) legal age under the \"age\" column. Using 'del df['col']' in this case would be illogical and irresponsible since the 'age' column would be deleted. Not only would this delete the column, but it would also wipe out crucial information on all other registered voters.\n",
    "\n",
    "*With 'df.dropna()' we would simply purge the voter with irregular voter information from the voter registration data. Not only would this correctly remove a row of information on an individual with incorrect data to vote (since they shouldn't be voting), but it would also not interfere with the other 99 individuals who have correct voter registration information. "
   ]
  },
  {
   "cell_type": "code",
   "execution_count": null,
   "id": "be857c40",
   "metadata": {},
   "outputs": [],
   "source": []
  }
 ],
 "metadata": {
  "kernelspec": {
   "display_name": "Python 3 (ipykernel)",
   "language": "python",
   "name": "python3"
  },
  "language_info": {
   "codemirror_mode": {
    "name": "ipython",
    "version": 3
   },
   "file_extension": ".py",
   "mimetype": "text/x-python",
   "name": "python",
   "nbconvert_exporter": "python",
   "pygments_lexer": "ipython3",
   "version": "3.11.6"
  }
 },
 "nbformat": 4,
 "nbformat_minor": 5
}
